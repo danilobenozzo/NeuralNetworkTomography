{
 "metadata": {
  "name": "",
  "signature": "sha256:9925622c44580e9417c7b07d8cc7277b6dacd782a75536108209cbba50bf990a"
 },
 "nbformat": 3,
 "nbformat_minor": 0,
 "worksheets": [
  {
   "cells": [
    {
     "cell_type": "code",
     "collapsed": false,
     "input": [
      "#=======================DEFAULT VALUES FOR THE VARIABLES=======================\n",
      "n_exc_default = 320\n",
      "n_inh_default = 80\n",
      "connection_prob_default = 0.15\n",
      "frac_input_neurons_default = 0.2\n",
      "no_cascades_default = 10000\n",
      "ensemble_size_default = 10\n",
      "delay_max_default = 1.0\n",
      "file_name_base_data_default = \"./Data/Recurrent\"\n",
      "ensemble_count_init_default = 0\n",
      "#=============================================================================="
     ],
     "language": "python",
     "metadata": {},
     "outputs": [],
     "prompt_number": 7
    },
    {
     "cell_type": "code",
     "collapsed": false,
     "input": [],
     "language": "python",
     "metadata": {},
     "outputs": []
    },
    {
     "cell_type": "heading",
     "level": 1,
     "metadata": {},
     "source": [
      "Test\n"
     ]
    },
    {
     "cell_type": "markdown",
     "metadata": {},
     "source": [
      "What? Do you see my point?"
     ]
    },
    {
     "cell_type": "code",
     "collapsed": false,
     "input": [
      "print \"hello!\""
     ],
     "language": "python",
     "metadata": {},
     "outputs": [
      {
       "output_type": "stream",
       "stream": "stdout",
       "text": [
        "hello!\n"
       ]
      }
     ],
     "prompt_number": 8
    },
    {
     "cell_type": "heading",
     "level": 4,
     "metadata": {},
     "source": [
      "This is just to evalue\n",
      "ssaz"
     ]
    },
    {
     "cell_type": "code",
     "collapsed": false,
     "input": [],
     "language": "python",
     "metadata": {},
     "outputs": [],
     "prompt_number": 8
    }
   ],
   "metadata": {}
  }
 ]
}